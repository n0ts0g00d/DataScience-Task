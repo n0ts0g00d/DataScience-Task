{
 "cells": [
  {
   "cell_type": "markdown",
   "id": "796d33df",
   "metadata": {},
   "source": [
    "### Employee DataAnalytics Based Salary \n",
    "**Dataset Fields** <br/>\n",
    "**salary** <br/>\n",
    "a numeric variable, used as response variable: current salary in US dollars\n",
    "\n",
    "**Birthdate**\n",
    "birthdate \n",
    "\n",
    "**educ**<br/>\n",
    "a numeric variable: educational level in years\n",
    "\n",
    "**startsal**<br/>\n",
    "a numeric variable: beginning salary in US dollars\n",
    "\n",
    "**jobtime**<br/>\n",
    "a numeric variable: months since hire\n",
    "\n",
    "**prevexp**<br/>\n",
    "a numeric variable: previous work experience in months\n",
    "\n",
    "**minority**\n",
    "a factor variable: minority classification with levels min, indicating minority ( 0 mean  minority , 1 mean no minority)\n",
    "\n",
    "**gender**<br/>\n",
    "a factor variable: gender type with levels f, indicating female, and m, indicating male\n",
    "\n",
    "**jobcat**<br/>\n",
    "a factor variable: type of job with levels (Clerical, Custodial, and manager)(1,2,3) Numerical format"
   ]
  },
  {
   "cell_type": "code",
   "execution_count": 1,
   "id": "cf9ce12c",
   "metadata": {},
   "outputs": [],
   "source": [
    "import numpy as np\n",
    "import pandas as pd\n",
    "import matplotlib.pyplot as plt\n",
    "import seaborn as sns"
   ]
  },
  {
   "cell_type": "code",
   "execution_count": 2,
   "id": "d1d96e5c",
   "metadata": {},
   "outputs": [
    {
     "data": {
      "text/html": [
       "<div>\n",
       "<style scoped>\n",
       "    .dataframe tbody tr th:only-of-type {\n",
       "        vertical-align: middle;\n",
       "    }\n",
       "\n",
       "    .dataframe tbody tr th {\n",
       "        vertical-align: top;\n",
       "    }\n",
       "\n",
       "    .dataframe thead th {\n",
       "        text-align: right;\n",
       "    }\n",
       "</style>\n",
       "<table border=\"1\" class=\"dataframe\">\n",
       "  <thead>\n",
       "    <tr style=\"text-align: right;\">\n",
       "      <th></th>\n",
       "      <th>id</th>\n",
       "      <th>gender</th>\n",
       "      <th>bdate</th>\n",
       "      <th>educ</th>\n",
       "      <th>jobcat</th>\n",
       "      <th>salary</th>\n",
       "      <th>salbegin</th>\n",
       "      <th>jobtime</th>\n",
       "      <th>prevexp</th>\n",
       "      <th>minority</th>\n",
       "    </tr>\n",
       "  </thead>\n",
       "  <tbody>\n",
       "    <tr>\n",
       "      <th>0</th>\n",
       "      <td>1</td>\n",
       "      <td>m</td>\n",
       "      <td>1952-02-03</td>\n",
       "      <td>15</td>\n",
       "      <td>3</td>\n",
       "      <td>57000</td>\n",
       "      <td>27000</td>\n",
       "      <td>98</td>\n",
       "      <td>144</td>\n",
       "      <td>0</td>\n",
       "    </tr>\n",
       "    <tr>\n",
       "      <th>1</th>\n",
       "      <td>2</td>\n",
       "      <td>m</td>\n",
       "      <td>1958-05-23</td>\n",
       "      <td>16</td>\n",
       "      <td>1</td>\n",
       "      <td>40200</td>\n",
       "      <td>18750</td>\n",
       "      <td>98</td>\n",
       "      <td>36</td>\n",
       "      <td>0</td>\n",
       "    </tr>\n",
       "    <tr>\n",
       "      <th>2</th>\n",
       "      <td>3</td>\n",
       "      <td>f</td>\n",
       "      <td>1929-07-26</td>\n",
       "      <td>12</td>\n",
       "      <td>1</td>\n",
       "      <td>21450</td>\n",
       "      <td>12000</td>\n",
       "      <td>98</td>\n",
       "      <td>381</td>\n",
       "      <td>0</td>\n",
       "    </tr>\n",
       "    <tr>\n",
       "      <th>3</th>\n",
       "      <td>4</td>\n",
       "      <td>f</td>\n",
       "      <td>1947-04-15</td>\n",
       "      <td>8</td>\n",
       "      <td>1</td>\n",
       "      <td>21900</td>\n",
       "      <td>13200</td>\n",
       "      <td>98</td>\n",
       "      <td>190</td>\n",
       "      <td>0</td>\n",
       "    </tr>\n",
       "    <tr>\n",
       "      <th>4</th>\n",
       "      <td>5</td>\n",
       "      <td>m</td>\n",
       "      <td>1955-02-09</td>\n",
       "      <td>15</td>\n",
       "      <td>1</td>\n",
       "      <td>45000</td>\n",
       "      <td>21000</td>\n",
       "      <td>98</td>\n",
       "      <td>138</td>\n",
       "      <td>0</td>\n",
       "    </tr>\n",
       "  </tbody>\n",
       "</table>\n",
       "</div>"
      ],
      "text/plain": [
       "   id gender      bdate  educ  jobcat  salary  salbegin  jobtime  prevexp  \\\n",
       "0   1      m 1952-02-03    15       3   57000     27000       98      144   \n",
       "1   2      m 1958-05-23    16       1   40200     18750       98       36   \n",
       "2   3      f 1929-07-26    12       1   21450     12000       98      381   \n",
       "3   4      f 1947-04-15     8       1   21900     13200       98      190   \n",
       "4   5      m 1955-02-09    15       1   45000     21000       98      138   \n",
       "\n",
       "   minority  \n",
       "0         0  \n",
       "1         0  \n",
       "2         0  \n",
       "3         0  \n",
       "4         0  "
      ]
     },
     "execution_count": 2,
     "metadata": {},
     "output_type": "execute_result"
    }
   ],
   "source": [
    "emp_data=pd.read_excel(\"Employee_Data.xls\")\n",
    "emp_data.head()"
   ]
  },
  {
   "cell_type": "code",
   "execution_count": 3,
   "id": "2a91de6e",
   "metadata": {},
   "outputs": [
    {
     "data": {
      "text/html": [
       "<div>\n",
       "<style scoped>\n",
       "    .dataframe tbody tr th:only-of-type {\n",
       "        vertical-align: middle;\n",
       "    }\n",
       "\n",
       "    .dataframe tbody tr th {\n",
       "        vertical-align: top;\n",
       "    }\n",
       "\n",
       "    .dataframe thead th {\n",
       "        text-align: right;\n",
       "    }\n",
       "</style>\n",
       "<table border=\"1\" class=\"dataframe\">\n",
       "  <thead>\n",
       "    <tr style=\"text-align: right;\">\n",
       "      <th></th>\n",
       "      <th>id</th>\n",
       "      <th>gender</th>\n",
       "      <th>bdate</th>\n",
       "      <th>educ</th>\n",
       "      <th>jobcat</th>\n",
       "      <th>salary</th>\n",
       "      <th>salbegin</th>\n",
       "      <th>jobtime</th>\n",
       "      <th>prevexp</th>\n",
       "      <th>minority</th>\n",
       "    </tr>\n",
       "  </thead>\n",
       "  <tbody>\n",
       "    <tr>\n",
       "      <th>469</th>\n",
       "      <td>470</td>\n",
       "      <td>m</td>\n",
       "      <td>1964-01-22</td>\n",
       "      <td>12</td>\n",
       "      <td>1</td>\n",
       "      <td>26250</td>\n",
       "      <td>15750</td>\n",
       "      <td>64</td>\n",
       "      <td>69</td>\n",
       "      <td>1</td>\n",
       "    </tr>\n",
       "    <tr>\n",
       "      <th>470</th>\n",
       "      <td>471</td>\n",
       "      <td>m</td>\n",
       "      <td>1966-08-03</td>\n",
       "      <td>15</td>\n",
       "      <td>1</td>\n",
       "      <td>26400</td>\n",
       "      <td>15750</td>\n",
       "      <td>64</td>\n",
       "      <td>32</td>\n",
       "      <td>1</td>\n",
       "    </tr>\n",
       "    <tr>\n",
       "      <th>471</th>\n",
       "      <td>472</td>\n",
       "      <td>m</td>\n",
       "      <td>1966-02-21</td>\n",
       "      <td>15</td>\n",
       "      <td>1</td>\n",
       "      <td>39150</td>\n",
       "      <td>15750</td>\n",
       "      <td>63</td>\n",
       "      <td>46</td>\n",
       "      <td>0</td>\n",
       "    </tr>\n",
       "    <tr>\n",
       "      <th>472</th>\n",
       "      <td>473</td>\n",
       "      <td>f</td>\n",
       "      <td>1937-11-25</td>\n",
       "      <td>12</td>\n",
       "      <td>1</td>\n",
       "      <td>21450</td>\n",
       "      <td>12750</td>\n",
       "      <td>63</td>\n",
       "      <td>139</td>\n",
       "      <td>0</td>\n",
       "    </tr>\n",
       "    <tr>\n",
       "      <th>473</th>\n",
       "      <td>474</td>\n",
       "      <td>f</td>\n",
       "      <td>1968-11-05</td>\n",
       "      <td>12</td>\n",
       "      <td>1</td>\n",
       "      <td>29400</td>\n",
       "      <td>14250</td>\n",
       "      <td>63</td>\n",
       "      <td>9</td>\n",
       "      <td>0</td>\n",
       "    </tr>\n",
       "  </tbody>\n",
       "</table>\n",
       "</div>"
      ],
      "text/plain": [
       "      id gender      bdate  educ  jobcat  salary  salbegin  jobtime  prevexp  \\\n",
       "469  470      m 1964-01-22    12       1   26250     15750       64       69   \n",
       "470  471      m 1966-08-03    15       1   26400     15750       64       32   \n",
       "471  472      m 1966-02-21    15       1   39150     15750       63       46   \n",
       "472  473      f 1937-11-25    12       1   21450     12750       63      139   \n",
       "473  474      f 1968-11-05    12       1   29400     14250       63        9   \n",
       "\n",
       "     minority  \n",
       "469         1  \n",
       "470         1  \n",
       "471         0  \n",
       "472         0  \n",
       "473         0  "
      ]
     },
     "execution_count": 3,
     "metadata": {},
     "output_type": "execute_result"
    }
   ],
   "source": [
    "emp_data.tail()"
   ]
  },
  {
   "cell_type": "code",
   "execution_count": 4,
   "id": "dc0fa5ad",
   "metadata": {},
   "outputs": [
    {
     "data": {
      "text/plain": [
       "(474, 10)"
      ]
     },
     "execution_count": 4,
     "metadata": {},
     "output_type": "execute_result"
    }
   ],
   "source": [
    "emp_data.shape"
   ]
  },
  {
   "cell_type": "code",
   "execution_count": 5,
   "id": "0b930f19",
   "metadata": {},
   "outputs": [
    {
     "name": "stdout",
     "output_type": "stream",
     "text": [
      "<class 'pandas.core.frame.DataFrame'>\n",
      "RangeIndex: 474 entries, 0 to 473\n",
      "Data columns (total 10 columns):\n",
      " #   Column    Non-Null Count  Dtype         \n",
      "---  ------    --------------  -----         \n",
      " 0   id        474 non-null    int64         \n",
      " 1   gender    474 non-null    object        \n",
      " 2   bdate     473 non-null    datetime64[ns]\n",
      " 3   educ      474 non-null    int64         \n",
      " 4   jobcat    474 non-null    int64         \n",
      " 5   salary    474 non-null    int64         \n",
      " 6   salbegin  474 non-null    int64         \n",
      " 7   jobtime   474 non-null    int64         \n",
      " 8   prevexp   474 non-null    int64         \n",
      " 9   minority  474 non-null    int64         \n",
      "dtypes: datetime64[ns](1), int64(8), object(1)\n",
      "memory usage: 37.2+ KB\n"
     ]
    }
   ],
   "source": [
    "emp_data.info()"
   ]
  },
  {
   "cell_type": "code",
   "execution_count": 6,
   "id": "1ac04cac",
   "metadata": {},
   "outputs": [
    {
     "data": {
      "text/html": [
       "<div>\n",
       "<style scoped>\n",
       "    .dataframe tbody tr th:only-of-type {\n",
       "        vertical-align: middle;\n",
       "    }\n",
       "\n",
       "    .dataframe tbody tr th {\n",
       "        vertical-align: top;\n",
       "    }\n",
       "\n",
       "    .dataframe thead th {\n",
       "        text-align: right;\n",
       "    }\n",
       "</style>\n",
       "<table border=\"1\" class=\"dataframe\">\n",
       "  <thead>\n",
       "    <tr style=\"text-align: right;\">\n",
       "      <th></th>\n",
       "      <th>id</th>\n",
       "      <th>educ</th>\n",
       "      <th>jobcat</th>\n",
       "      <th>salary</th>\n",
       "      <th>salbegin</th>\n",
       "      <th>jobtime</th>\n",
       "      <th>prevexp</th>\n",
       "      <th>minority</th>\n",
       "    </tr>\n",
       "  </thead>\n",
       "  <tbody>\n",
       "    <tr>\n",
       "      <th>count</th>\n",
       "      <td>474.000000</td>\n",
       "      <td>474.000000</td>\n",
       "      <td>474.000000</td>\n",
       "      <td>474.000000</td>\n",
       "      <td>474.000000</td>\n",
       "      <td>474.000000</td>\n",
       "      <td>474.000000</td>\n",
       "      <td>474.000000</td>\n",
       "    </tr>\n",
       "    <tr>\n",
       "      <th>mean</th>\n",
       "      <td>237.500000</td>\n",
       "      <td>13.491561</td>\n",
       "      <td>1.411392</td>\n",
       "      <td>34419.567511</td>\n",
       "      <td>17016.086498</td>\n",
       "      <td>81.109705</td>\n",
       "      <td>95.860759</td>\n",
       "      <td>0.219409</td>\n",
       "    </tr>\n",
       "    <tr>\n",
       "      <th>std</th>\n",
       "      <td>136.976275</td>\n",
       "      <td>2.884846</td>\n",
       "      <td>0.773201</td>\n",
       "      <td>17075.661465</td>\n",
       "      <td>7870.638154</td>\n",
       "      <td>10.060945</td>\n",
       "      <td>104.586236</td>\n",
       "      <td>0.414284</td>\n",
       "    </tr>\n",
       "    <tr>\n",
       "      <th>min</th>\n",
       "      <td>1.000000</td>\n",
       "      <td>8.000000</td>\n",
       "      <td>1.000000</td>\n",
       "      <td>15750.000000</td>\n",
       "      <td>9000.000000</td>\n",
       "      <td>63.000000</td>\n",
       "      <td>0.000000</td>\n",
       "      <td>0.000000</td>\n",
       "    </tr>\n",
       "    <tr>\n",
       "      <th>25%</th>\n",
       "      <td>119.250000</td>\n",
       "      <td>12.000000</td>\n",
       "      <td>1.000000</td>\n",
       "      <td>24000.000000</td>\n",
       "      <td>12487.500000</td>\n",
       "      <td>72.000000</td>\n",
       "      <td>19.250000</td>\n",
       "      <td>0.000000</td>\n",
       "    </tr>\n",
       "    <tr>\n",
       "      <th>50%</th>\n",
       "      <td>237.500000</td>\n",
       "      <td>12.000000</td>\n",
       "      <td>1.000000</td>\n",
       "      <td>28875.000000</td>\n",
       "      <td>15000.000000</td>\n",
       "      <td>81.000000</td>\n",
       "      <td>55.000000</td>\n",
       "      <td>0.000000</td>\n",
       "    </tr>\n",
       "    <tr>\n",
       "      <th>75%</th>\n",
       "      <td>355.750000</td>\n",
       "      <td>15.000000</td>\n",
       "      <td>1.000000</td>\n",
       "      <td>36937.500000</td>\n",
       "      <td>17490.000000</td>\n",
       "      <td>90.000000</td>\n",
       "      <td>138.750000</td>\n",
       "      <td>0.000000</td>\n",
       "    </tr>\n",
       "    <tr>\n",
       "      <th>max</th>\n",
       "      <td>474.000000</td>\n",
       "      <td>21.000000</td>\n",
       "      <td>3.000000</td>\n",
       "      <td>135000.000000</td>\n",
       "      <td>79980.000000</td>\n",
       "      <td>98.000000</td>\n",
       "      <td>476.000000</td>\n",
       "      <td>1.000000</td>\n",
       "    </tr>\n",
       "  </tbody>\n",
       "</table>\n",
       "</div>"
      ],
      "text/plain": [
       "               id        educ      jobcat         salary      salbegin  \\\n",
       "count  474.000000  474.000000  474.000000     474.000000    474.000000   \n",
       "mean   237.500000   13.491561    1.411392   34419.567511  17016.086498   \n",
       "std    136.976275    2.884846    0.773201   17075.661465   7870.638154   \n",
       "min      1.000000    8.000000    1.000000   15750.000000   9000.000000   \n",
       "25%    119.250000   12.000000    1.000000   24000.000000  12487.500000   \n",
       "50%    237.500000   12.000000    1.000000   28875.000000  15000.000000   \n",
       "75%    355.750000   15.000000    1.000000   36937.500000  17490.000000   \n",
       "max    474.000000   21.000000    3.000000  135000.000000  79980.000000   \n",
       "\n",
       "          jobtime     prevexp    minority  \n",
       "count  474.000000  474.000000  474.000000  \n",
       "mean    81.109705   95.860759    0.219409  \n",
       "std     10.060945  104.586236    0.414284  \n",
       "min     63.000000    0.000000    0.000000  \n",
       "25%     72.000000   19.250000    0.000000  \n",
       "50%     81.000000   55.000000    0.000000  \n",
       "75%     90.000000  138.750000    0.000000  \n",
       "max     98.000000  476.000000    1.000000  "
      ]
     },
     "execution_count": 6,
     "metadata": {},
     "output_type": "execute_result"
    }
   ],
   "source": [
    "emp_data.describe()"
   ]
  },
  {
   "cell_type": "code",
   "execution_count": 7,
   "id": "4363edf8",
   "metadata": {},
   "outputs": [
    {
     "data": {
      "text/plain": [
       "id          0\n",
       "gender      0\n",
       "bdate       1\n",
       "educ        0\n",
       "jobcat      0\n",
       "salary      0\n",
       "salbegin    0\n",
       "jobtime     0\n",
       "prevexp     0\n",
       "minority    0\n",
       "dtype: int64"
      ]
     },
     "execution_count": 7,
     "metadata": {},
     "output_type": "execute_result"
    }
   ],
   "source": [
    "emp_data.isnull().sum()"
   ]
  },
  {
   "cell_type": "markdown",
   "id": "35091491",
   "metadata": {},
   "source": [
    "### Fill null Value"
   ]
  },
  {
   "cell_type": "code",
   "execution_count": 8,
   "id": "3ed65c15",
   "metadata": {},
   "outputs": [],
   "source": [
    "emp_data.fillna(method=\"bfill\",inplace=True)"
   ]
  },
  {
   "cell_type": "code",
   "execution_count": 9,
   "id": "4820764d",
   "metadata": {},
   "outputs": [
    {
     "data": {
      "text/plain": [
       "id          0\n",
       "gender      0\n",
       "bdate       0\n",
       "educ        0\n",
       "jobcat      0\n",
       "salary      0\n",
       "salbegin    0\n",
       "jobtime     0\n",
       "prevexp     0\n",
       "minority    0\n",
       "dtype: int64"
      ]
     },
     "execution_count": 9,
     "metadata": {},
     "output_type": "execute_result"
    }
   ],
   "source": [
    "emp_data.isnull().sum()"
   ]
  },
  {
   "cell_type": "markdown",
   "id": "37690150",
   "metadata": {},
   "source": [
    "### A. What is average salary of all employees  (let’s call is AVG_SAL)"
   ]
  },
  {
   "cell_type": "code",
   "execution_count": 10,
   "id": "97c723ac",
   "metadata": {},
   "outputs": [
    {
     "name": "stdout",
     "output_type": "stream",
     "text": [
      "Avreage salary: 34419.56751054852\n"
     ]
    }
   ],
   "source": [
    "AVG_SAL=emp_data['salary'].mean()\n",
    "print(\"Avreage salary:\",AVG_SAL)"
   ]
  },
  {
   "cell_type": "markdown",
   "id": "3680f2d2",
   "metadata": {},
   "source": [
    "### B.Find how many male employees who earn below the AVG_SAL"
   ]
  },
  {
   "cell_type": "code",
   "execution_count": 11,
   "id": "0b384939",
   "metadata": {},
   "outputs": [
    {
     "data": {
      "text/plain": [
       "id   gender  bdate       educ  jobcat  salary  salbegin  jobtime  prevexp  minority\n",
       "6    m       1958-08-22  15    1       32100   13500     98       67       0           1\n",
       "320  m       1936-11-10  12    1       22050   15000     76       385      0           1\n",
       "302  m       1939-09-28  8     1       22350   15000     78       320      1           1\n",
       "305  m       1941-10-25  12    2       30750   15750     77       317      0           1\n",
       "306  m       1966-04-05  15    1       30750   16500     77       41       0           1\n",
       "                                                                                      ..\n",
       "133  m       1959-09-12  15    1       27000   15750     89       87       0           1\n",
       "132  m       1953-05-17  12    1       27300   17250     89       175      0           1\n",
       "131  m       1962-02-08  15    1       31500   15750     89       22       0           1\n",
       "127  m       1950-09-01  12    2       30750   15000     90       209      1           1\n",
       "471  m       1966-08-03  15    1       26400   15750     64       32       1           1\n",
       "Length: 138, dtype: int64"
      ]
     },
     "execution_count": 11,
     "metadata": {},
     "output_type": "execute_result"
    }
   ],
   "source": [
    "male_salary_detail=emp_data.loc[(emp_data['gender']=='m') & (emp_data['salary']<AVG_SAL)].value_counts()\n",
    "male_salary_detail"
   ]
  },
  {
   "cell_type": "code",
   "execution_count": 12,
   "id": "a6d1ae52",
   "metadata": {},
   "outputs": [
    {
     "name": "stdout",
     "output_type": "stream",
     "text": [
      "Total 138 Male Candidate have a below 34419.56751054852 of Average salary\n"
     ]
    }
   ],
   "source": [
    "print(\"Total {} Male Candidate have a below {} of Average salary\".format(len(male_salary_detail),AVG_SAL))"
   ]
  },
  {
   "cell_type": "markdown",
   "id": "63eeb712",
   "metadata": {},
   "source": [
    "### C. Find out how many female employees who earn below the AVG_SAL"
   ]
  },
  {
   "cell_type": "code",
   "execution_count": 13,
   "id": "eb3bbd8f",
   "metadata": {},
   "outputs": [
    {
     "data": {
      "text/plain": [
       "id   gender  bdate       educ  jobcat  salary  salbegin  jobtime  prevexp  minority\n",
       "3    f       1929-07-26  12    1       21450   12000     98       381      0           1\n",
       "346  f       1968-08-16  15    1       22950   13950     73       22       0           1\n",
       "331  f       1942-02-04  12    1       24450   12000     75       144      0           1\n",
       "332  f       1964-05-10  16    1       33000   18000     75       26       0           1\n",
       "334  f       1966-05-09  12    1       24450   10950     75       32       1           1\n",
       "                                                                                      ..\n",
       "193  f       1966-07-22  12    1       24750   12000     84       41       1           1\n",
       "194  f       1938-04-10  15    1       27150   15750     84       231      1           1\n",
       "195  f       1955-11-06  12    1       26400   12750     84       36       1           1\n",
       "196  f       1946-03-03  16    1       23100   12000     84       214      1           1\n",
       "474  f       1968-11-05  12    1       29400   14250     63       9        0           1\n",
       "Length: 191, dtype: int64"
      ]
     },
     "execution_count": 13,
     "metadata": {},
     "output_type": "execute_result"
    }
   ],
   "source": [
    "Female_salary_detail=emp_data.loc[(emp_data['gender']=='f') & (emp_data['salary']<AVG_SAL)].value_counts()\n",
    "Female_salary_detail"
   ]
  },
  {
   "cell_type": "code",
   "execution_count": 14,
   "id": "a2659393",
   "metadata": {},
   "outputs": [
    {
     "name": "stdout",
     "output_type": "stream",
     "text": [
      "Total 191 Female Candidate have a below 34419.56751054852 of Average salary\n"
     ]
    }
   ],
   "source": [
    "print(\"Total {} Female Candidate have a below {} of Average salary\".format(len(Female_salary_detail),AVG_SAL))"
   ]
  },
  {
   "cell_type": "markdown",
   "id": "cd0ba9a3",
   "metadata": {},
   "source": [
    "### D.Find how many male employees who earn equal or more than the AVG_SAL"
   ]
  },
  {
   "cell_type": "code",
   "execution_count": 15,
   "id": "64bebef7",
   "metadata": {},
   "outputs": [
    {
     "data": {
      "text/plain": [
       "id   gender  bdate       educ  jobcat  salary  salbegin  jobtime  prevexp  minority\n",
       "1    m       1952-02-03  15    3       57000   27000     98       144      0           1\n",
       "2    m       1958-05-23  16    1       40200   18750     98       36       0           1\n",
       "318  m       1961-02-19  16    3       48750   21990     76       61       0           1\n",
       "310  m       1964-03-23  16    1       44875   21240     77       22       0           1\n",
       "308  m       1963-02-01  15    1       34500   18000     77       63       0           1\n",
       "                                                                                      ..\n",
       "101  m       1960-03-14  16    3       60625   22500     91       44       0           1\n",
       "100  m       1963-10-25  18    3       78250   27480     91       47       0           1\n",
       "97   m       1953-01-18  17    1       40200   19500     92       168      1           1\n",
       "89   m       1961-06-24  19    3       68750   27480     92       8        0           1\n",
       "472  m       1966-02-21  15    1       39150   15750     63       46       0           1\n",
       "Length: 120, dtype: int64"
      ]
     },
     "execution_count": 15,
     "metadata": {},
     "output_type": "execute_result"
    }
   ],
   "source": [
    "male_salary_detail1=emp_data.loc[(emp_data['gender']=='m') & (emp_data['salary']>=AVG_SAL)].value_counts()\n",
    "male_salary_detail1"
   ]
  },
  {
   "cell_type": "code",
   "execution_count": 16,
   "id": "4b267d33",
   "metadata": {},
   "outputs": [
    {
     "name": "stdout",
     "output_type": "stream",
     "text": [
      "Total 120 Male Candidate have a equal or More than 34419.56751054852 of Average salary\n"
     ]
    }
   ],
   "source": [
    "print(\"Total {} Male Candidate have a equal or More than {} of Average salary\".format(len(male_salary_detail1),AVG_SAL))"
   ]
  },
  {
   "cell_type": "markdown",
   "id": "d8094707",
   "metadata": {},
   "source": [
    "### E. Find how many female employees who earn equal or more than the AVG_SAL"
   ]
  },
  {
   "cell_type": "code",
   "execution_count": 17,
   "id": "59c105b8",
   "metadata": {},
   "outputs": [
    {
     "data": {
      "text/plain": [
       "id   gender  bdate       educ  jobcat  salary  salbegin  jobtime  prevexp  minority\n",
       "14   f       1949-02-26  15    1       35100   16800     98       137      1           1\n",
       "240  f       1961-06-15  16    3       54375   18750     81       81       0           1\n",
       "413  f       1966-03-13  16    3       43500   19500     68       11       0           1\n",
       "371  f       1966-04-05  16    3       58125   18000     71       11       0           1\n",
       "370  f       1963-01-20  16    1       36600   18000     71       12       0           1\n",
       "350  f       1939-04-21  12    1       37650   15750     73       132      0           1\n",
       "348  f       1962-06-11  16    3       56750   30000     73       15       0           1\n",
       "333  f       1965-01-26  15    1       37050   18000     75       5        0           1\n",
       "315  f       1969-09-19  12    1       34500   12150     77       4        0           1\n",
       "277  f       1965-05-20  16    3       43000   17490     79       20       0           1\n",
       "266  f       1963-10-07  16    1       34500   17250     80       3        0           1\n",
       "242  f       1967-11-03  12    1       40800   18000     81       4        0           1\n",
       "189  f       1950-03-28  12    1       36000   19980     84       240      0           1\n",
       "21   f       1963-02-19  16    1       38850   15000     97       17       0           1\n",
       "188  f       1934-02-04  12    1       34500   18750     84       208      0           1\n",
       "176  f       1962-10-05  16    1       35700   17250     85       19       0           1\n",
       "168  f       1962-04-23  16    3       46875   17250     86       19       0           1\n",
       "141  f       1966-06-14  15    1       35550   13350     88       32       0           1\n",
       "134  f       1941-11-10  16    3       41550   24990     89       285      0           1\n",
       "124  f       1963-05-29  16    1       38550   16500     90       0        0           1\n",
       "120  f       1964-11-12  16    3       37800   15750     90       7        0           1\n",
       "80   f       1961-05-25  16    1       51000   18000     93       22       0           1\n",
       "79   f       1962-01-23  16    1       34800   14550     93       8        0           1\n",
       "72   f       1964-01-07  16    1       54000   18000     93       11       0           1\n",
       "468  f       1965-11-28  16    3       55750   19980     64       36       0           1\n",
       "dtype: int64"
      ]
     },
     "execution_count": 17,
     "metadata": {},
     "output_type": "execute_result"
    }
   ],
   "source": [
    "Female_salary_detail1=emp_data.loc[(emp_data['gender']=='f') & (emp_data['salary']>=AVG_SAL)].value_counts()\n",
    "Female_salary_detail1"
   ]
  },
  {
   "cell_type": "code",
   "execution_count": 18,
   "id": "851c23cf",
   "metadata": {},
   "outputs": [
    {
     "name": "stdout",
     "output_type": "stream",
     "text": [
      "Total 25 Female Candidate have a equal or More than 34419.56751054852 of Average salary\n"
     ]
    }
   ],
   "source": [
    "print(\"Total {} Female Candidate have a equal or More than {} of Average salary\".format(len(Female_salary_detail1),AVG_SAL))"
   ]
  },
  {
   "cell_type": "markdown",
   "id": "5db60315",
   "metadata": {},
   "source": [
    "### Gender distribution (male and Female count)"
   ]
  },
  {
   "cell_type": "code",
   "execution_count": 19,
   "id": "af7d261d",
   "metadata": {},
   "outputs": [
    {
     "data": {
      "text/plain": [
       "m    258\n",
       "f    216\n",
       "Name: gender, dtype: int64"
      ]
     },
     "execution_count": 19,
     "metadata": {},
     "output_type": "execute_result"
    }
   ],
   "source": [
    "emp_data['gender'].value_counts()"
   ]
  },
  {
   "cell_type": "code",
   "execution_count": 20,
   "id": "155dca56",
   "metadata": {},
   "outputs": [
    {
     "data": {
      "text/html": [
       "<div>\n",
       "<style scoped>\n",
       "    .dataframe tbody tr th:only-of-type {\n",
       "        vertical-align: middle;\n",
       "    }\n",
       "\n",
       "    .dataframe tbody tr th {\n",
       "        vertical-align: top;\n",
       "    }\n",
       "\n",
       "    .dataframe thead th {\n",
       "        text-align: right;\n",
       "    }\n",
       "</style>\n",
       "<table border=\"1\" class=\"dataframe\">\n",
       "  <thead>\n",
       "    <tr style=\"text-align: right;\">\n",
       "      <th></th>\n",
       "      <th>gender</th>\n",
       "      <th>salary</th>\n",
       "    </tr>\n",
       "  </thead>\n",
       "  <tbody>\n",
       "    <tr>\n",
       "      <th>0</th>\n",
       "      <td>f</td>\n",
       "      <td>26031.921296</td>\n",
       "    </tr>\n",
       "    <tr>\n",
       "      <th>1</th>\n",
       "      <td>m</td>\n",
       "      <td>41441.782946</td>\n",
       "    </tr>\n",
       "  </tbody>\n",
       "</table>\n",
       "</div>"
      ],
      "text/plain": [
       "  gender        salary\n",
       "0      f  26031.921296\n",
       "1      m  41441.782946"
      ]
     },
     "execution_count": 20,
     "metadata": {},
     "output_type": "execute_result"
    }
   ],
   "source": [
    "# Average Salary By Gender\n",
    "GenderSal=emp_data.groupby(['gender'],as_index=False).salary.mean()\n",
    "GenderSal"
   ]
  },
  {
   "cell_type": "markdown",
   "id": "4e8947a3",
   "metadata": {},
   "source": [
    "### Create a New Column Age"
   ]
  },
  {
   "cell_type": "code",
   "execution_count": 21,
   "id": "d37499bf",
   "metadata": {},
   "outputs": [
    {
     "data": {
      "text/plain": [
       "Int64Index([1952, 1958, 1929, 1947, 1955, 1956, 1966, 1946, 1950, 1960, 1949,\n",
       "            1962, 1964, 1940, 1963, 1965, 1933, 1942, 1954, 1944, 1961, 1938,\n",
       "            1931, 1959, 1948, 1968, 1967, 1953, 1930, 1932, 1936, 1951, 1941,\n",
       "            1939, 1937, 1935, 1943, 1934, 1945, 1969, 1970, 1957, 1971],\n",
       "           dtype='int64', name='bdate')"
      ]
     },
     "execution_count": 21,
     "metadata": {},
     "output_type": "execute_result"
    }
   ],
   "source": [
    "### To find unique birthdate year\n",
    "from datetime import datetime, date\n",
    "\n",
    "year=pd.DatetimeIndex(emp_data['bdate']).year\n",
    "year.unique()"
   ]
  },
  {
   "cell_type": "code",
   "execution_count": 22,
   "id": "7ca7312f",
   "metadata": {},
   "outputs": [
    {
     "data": {
      "text/plain": [
       "datetime.date(2022, 7, 6)"
      ]
     },
     "execution_count": 22,
     "metadata": {},
     "output_type": "execute_result"
    }
   ],
   "source": [
    "current_date=date.today()\n",
    "current_date"
   ]
  },
  {
   "cell_type": "code",
   "execution_count": 23,
   "id": "4a298ca8",
   "metadata": {},
   "outputs": [
    {
     "data": {
      "text/plain": [
       "2022"
      ]
     },
     "execution_count": 23,
     "metadata": {},
     "output_type": "execute_result"
    }
   ],
   "source": [
    "current_year=current_date.year\n",
    "current_year"
   ]
  },
  {
   "cell_type": "code",
   "execution_count": 24,
   "id": "b3f00238",
   "metadata": {},
   "outputs": [],
   "source": [
    "emp_data[\"age\"]=current_year-year"
   ]
  },
  {
   "cell_type": "code",
   "execution_count": 25,
   "id": "29841ad5",
   "metadata": {},
   "outputs": [
    {
     "data": {
      "text/html": [
       "<div>\n",
       "<style scoped>\n",
       "    .dataframe tbody tr th:only-of-type {\n",
       "        vertical-align: middle;\n",
       "    }\n",
       "\n",
       "    .dataframe tbody tr th {\n",
       "        vertical-align: top;\n",
       "    }\n",
       "\n",
       "    .dataframe thead th {\n",
       "        text-align: right;\n",
       "    }\n",
       "</style>\n",
       "<table border=\"1\" class=\"dataframe\">\n",
       "  <thead>\n",
       "    <tr style=\"text-align: right;\">\n",
       "      <th></th>\n",
       "      <th>id</th>\n",
       "      <th>gender</th>\n",
       "      <th>bdate</th>\n",
       "      <th>educ</th>\n",
       "      <th>jobcat</th>\n",
       "      <th>salary</th>\n",
       "      <th>salbegin</th>\n",
       "      <th>jobtime</th>\n",
       "      <th>prevexp</th>\n",
       "      <th>minority</th>\n",
       "      <th>age</th>\n",
       "    </tr>\n",
       "  </thead>\n",
       "  <tbody>\n",
       "    <tr>\n",
       "      <th>0</th>\n",
       "      <td>1</td>\n",
       "      <td>m</td>\n",
       "      <td>1952-02-03</td>\n",
       "      <td>15</td>\n",
       "      <td>3</td>\n",
       "      <td>57000</td>\n",
       "      <td>27000</td>\n",
       "      <td>98</td>\n",
       "      <td>144</td>\n",
       "      <td>0</td>\n",
       "      <td>70</td>\n",
       "    </tr>\n",
       "    <tr>\n",
       "      <th>1</th>\n",
       "      <td>2</td>\n",
       "      <td>m</td>\n",
       "      <td>1958-05-23</td>\n",
       "      <td>16</td>\n",
       "      <td>1</td>\n",
       "      <td>40200</td>\n",
       "      <td>18750</td>\n",
       "      <td>98</td>\n",
       "      <td>36</td>\n",
       "      <td>0</td>\n",
       "      <td>64</td>\n",
       "    </tr>\n",
       "    <tr>\n",
       "      <th>2</th>\n",
       "      <td>3</td>\n",
       "      <td>f</td>\n",
       "      <td>1929-07-26</td>\n",
       "      <td>12</td>\n",
       "      <td>1</td>\n",
       "      <td>21450</td>\n",
       "      <td>12000</td>\n",
       "      <td>98</td>\n",
       "      <td>381</td>\n",
       "      <td>0</td>\n",
       "      <td>93</td>\n",
       "    </tr>\n",
       "    <tr>\n",
       "      <th>3</th>\n",
       "      <td>4</td>\n",
       "      <td>f</td>\n",
       "      <td>1947-04-15</td>\n",
       "      <td>8</td>\n",
       "      <td>1</td>\n",
       "      <td>21900</td>\n",
       "      <td>13200</td>\n",
       "      <td>98</td>\n",
       "      <td>190</td>\n",
       "      <td>0</td>\n",
       "      <td>75</td>\n",
       "    </tr>\n",
       "    <tr>\n",
       "      <th>4</th>\n",
       "      <td>5</td>\n",
       "      <td>m</td>\n",
       "      <td>1955-02-09</td>\n",
       "      <td>15</td>\n",
       "      <td>1</td>\n",
       "      <td>45000</td>\n",
       "      <td>21000</td>\n",
       "      <td>98</td>\n",
       "      <td>138</td>\n",
       "      <td>0</td>\n",
       "      <td>67</td>\n",
       "    </tr>\n",
       "  </tbody>\n",
       "</table>\n",
       "</div>"
      ],
      "text/plain": [
       "   id gender      bdate  educ  jobcat  salary  salbegin  jobtime  prevexp  \\\n",
       "0   1      m 1952-02-03    15       3   57000     27000       98      144   \n",
       "1   2      m 1958-05-23    16       1   40200     18750       98       36   \n",
       "2   3      f 1929-07-26    12       1   21450     12000       98      381   \n",
       "3   4      f 1947-04-15     8       1   21900     13200       98      190   \n",
       "4   5      m 1955-02-09    15       1   45000     21000       98      138   \n",
       "\n",
       "   minority  age  \n",
       "0         0   70  \n",
       "1         0   64  \n",
       "2         0   93  \n",
       "3         0   75  \n",
       "4         0   67  "
      ]
     },
     "execution_count": 25,
     "metadata": {},
     "output_type": "execute_result"
    }
   ],
   "source": [
    "emp_data.head()"
   ]
  },
  {
   "cell_type": "markdown",
   "id": "55b286e0",
   "metadata": {},
   "source": [
    "### Salary Analysis By Job Category"
   ]
  },
  {
   "cell_type": "code",
   "execution_count": 26,
   "id": "2ec1b215",
   "metadata": {},
   "outputs": [
    {
     "data": {
      "text/plain": [
       "1    363\n",
       "3     84\n",
       "2     27\n",
       "Name: jobcat, dtype: int64"
      ]
     },
     "execution_count": 26,
     "metadata": {},
     "output_type": "execute_result"
    }
   ],
   "source": [
    "emp_data['jobcat'].value_counts()"
   ]
  },
  {
   "cell_type": "code",
   "execution_count": null,
   "id": "2a60e186",
   "metadata": {},
   "outputs": [],
   "source": []
  },
  {
   "cell_type": "code",
   "execution_count": 27,
   "id": "83fbd0bc",
   "metadata": {},
   "outputs": [
    {
     "data": {
      "text/html": [
       "<div>\n",
       "<style scoped>\n",
       "    .dataframe tbody tr th:only-of-type {\n",
       "        vertical-align: middle;\n",
       "    }\n",
       "\n",
       "    .dataframe tbody tr th {\n",
       "        vertical-align: top;\n",
       "    }\n",
       "\n",
       "    .dataframe thead th {\n",
       "        text-align: right;\n",
       "    }\n",
       "</style>\n",
       "<table border=\"1\" class=\"dataframe\">\n",
       "  <thead>\n",
       "    <tr style=\"text-align: right;\">\n",
       "      <th></th>\n",
       "      <th>jobcat</th>\n",
       "      <th>salary</th>\n",
       "    </tr>\n",
       "  </thead>\n",
       "  <tbody>\n",
       "    <tr>\n",
       "      <th>0</th>\n",
       "      <td>1</td>\n",
       "      <td>27838.539945</td>\n",
       "    </tr>\n",
       "    <tr>\n",
       "      <th>1</th>\n",
       "      <td>2</td>\n",
       "      <td>30938.888889</td>\n",
       "    </tr>\n",
       "    <tr>\n",
       "      <th>2</th>\n",
       "      <td>3</td>\n",
       "      <td>63977.797619</td>\n",
       "    </tr>\n",
       "  </tbody>\n",
       "</table>\n",
       "</div>"
      ],
      "text/plain": [
       "   jobcat        salary\n",
       "0       1  27838.539945\n",
       "1       2  30938.888889\n",
       "2       3  63977.797619"
      ]
     },
     "execution_count": 27,
     "metadata": {},
     "output_type": "execute_result"
    }
   ],
   "source": [
    "# Average Salary By Job Category \n",
    "JobcateDate=emp_data.groupby(['jobcat'],as_index=False).salary.mean()\n",
    "JobcateDate"
   ]
  },
  {
   "cell_type": "markdown",
   "id": "b4ce18ad",
   "metadata": {},
   "source": [
    "###  Visualization "
   ]
  },
  {
   "cell_type": "code",
   "execution_count": 28,
   "id": "612b8143",
   "metadata": {},
   "outputs": [
    {
     "data": {
      "text/plain": [
       "<AxesSubplot:xlabel='jobcat', ylabel='salary'>"
      ]
     },
     "execution_count": 28,
     "metadata": {},
     "output_type": "execute_result"
    },
    {
     "data": {
      "image/png": "[encoded data removed]",
      "text/plain": [
       "<Figure size 432x288 with 1 Axes>"
      ]
     },
     "metadata": {
      "needs_background": "light"
     },
     "output_type": "display_data"
    }
   ],
   "source": [
    "# Average Salary Distribution By Job Category\n",
    "sns.barplot(x='jobcat',y='salary',data=JobcateDate,palette=\"Blues_d\")\n"
   ]
  },
  {
   "cell_type": "code",
   "execution_count": 29,
   "id": "55a8af52",
   "metadata": {},
   "outputs": [
    {
     "data": {
      "text/plain": [
       "<AxesSubplot:xlabel='gender', ylabel='count'>"
      ]
     },
     "execution_count": 29,
     "metadata": {},
     "output_type": "execute_result"
    },
    {
     "data": {
      "image/png": "[encoded data removed]",
      "text/plain": [
       "<Figure size 432x288 with 1 Axes>"
      ]
     },
     "metadata": {
      "needs_background": "light"
     },
     "output_type": "display_data"
    }
   ],
   "source": [
    "sns.countplot(x='gender',data=emp_data,palette=\"Set3\")"
   ]
  },
  {
   "cell_type": "code",
   "execution_count": 30,
   "id": "5bd898e7",
   "metadata": {},
   "outputs": [
    {
     "data": {
      "text/plain": [
       "<AxesSubplot:xlabel='gender', ylabel='salary'>"
      ]
     },
     "execution_count": 30,
     "metadata": {},
     "output_type": "execute_result"
    },
    {
     "data": {
      "image/png": "[encoded data removed]",
      "text/plain": [
       "<Figure size 432x288 with 1 Axes>"
      ]
     },
     "metadata": {
      "needs_background": "light"
     },
     "output_type": "display_data"
    }
   ],
   "source": [
    "# Average Salary Distribution By Gender Category\n",
    "sns.barplot(x='gender',y='salary',data=GenderSal,palette=\"Blues_d\")"
   ]
  },
  {
   "cell_type": "code",
   "execution_count": 31,
   "id": "55bf62d5",
   "metadata": {},
   "outputs": [
    {
     "data": {
      "text/plain": [
       "<AxesSubplot:xlabel='minority', ylabel='count'>"
      ]
     },
     "execution_count": 31,
     "metadata": {},
     "output_type": "execute_result"
    },
    {
     "data": {
      "image/png": "[encoded data removed]",
      "text/plain": [
       "<Figure size 432x288 with 1 Axes>"
      ]
     },
     "metadata": {
      "needs_background": "light"
     },
     "output_type": "display_data"
    }
   ],
   "source": [
    "sns.countplot(x='minority',data=emp_data,palette=\"Set2\")"
   ]
  },
  {
   "cell_type": "code",
   "execution_count": 32,
   "id": "7ef1c0a0",
   "metadata": {},
   "outputs": [
    {
     "data": {
      "text/plain": [
       "<AxesSubplot:xlabel='minority', ylabel='salary'>"
      ]
     },
     "execution_count": 32,
     "metadata": {},
     "output_type": "execute_result"
    },
    {
     "data": {
      "image/png": "[encoded data removed]",
      "text/plain": [
       "<Figure size 432x288 with 1 Axes>"
      ]
     },
     "metadata": {
      "needs_background": "light"
     },
     "output_type": "display_data"
    }
   ],
   "source": [
    "# Average Salary Distribution minority level\n",
    "sns.barplot(x='minority',y='salary',data=emp_data,palette=\"Blues_d\")"
   ]
  },
  {
   "cell_type": "code",
   "execution_count": null,
   "id": "53a8a744",
   "metadata": {},
   "outputs": [],
   "source": []
  }
 ],
 "metadata": {
  "kernelspec": {
   "display_name": "Python 3 (ipykernel)",
   "language": "python",
   "name": "python3"
  },
  "language_info": {
   "codemirror_mode": {
    "name": "ipython",
    "version": 3
   },
   "file_extension": ".py",
   "mimetype": "text/x-python",
   "name": "python",
   "nbconvert_exporter": "python",
   "pygments_lexer": "ipython3",
   "version": "3.9.12"
  }
 },
 "nbformat": 4,
 "nbformat_minor": 5
}
